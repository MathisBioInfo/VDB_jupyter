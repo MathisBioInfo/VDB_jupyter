{
 "cells": [
  {
   "cell_type": "markdown",
   "metadata": {},
   "source": [
    "\n",
    "## Objectifs\n",
    "##### 1 Lire et traiter des données d'entrée avec [PANDAS](https://pandas.pydata.org/)\n",
    "\n",
    "##### 2 Représenter la distribution empirique des \"fold-change\" (**FC**) vs Précision, aka: volcano-plot\n",
    "    \n",
    "##### 3 Effectuer une analyse de sur-représentation en termes GO\n",
    "\n",
    "\n",
    "## Ressources : Rappels et illustration de l'analyse de représentation de termes GO\n",
    "###### [TP de MADP](https://github.com/glaunay/tp-proteomics#3-obtention-des-param%C3%A8tres-du-mod%C3%A8le)\n",
    "###### [Fiche Bioconductor](https://www.bioconductor.org/help/course-materials/2015/SeattleApr2015/E_GeneSetEnrichment.html)\n",
    "\n"
   ]
  },
  {
   "cell_type": "markdown",
   "metadata": {},
   "source": [
    "### Préparation de  l'environnement\n",
    "\n",
    "##### Please `pip install -r requirements.txt` first\n",
    "\n",
    "##### Directory Configuration\n",
    "\n",
    "* `workDir` points to the Git project, holds the *tsv* file\n",
    "* `libDir` points to Git project subdirectory hosting python library with files names `go.py  stat_utils.py  uniprot.py`\n",
    "* `dataDir` points to the data folder with uniprot and GO files"
   ]
  },
  {
   "cell_type": "code",
   "execution_count": 1,
   "metadata": {},
   "outputs": [],
   "source": [
    "import sys, os\n",
    "workDir = f\"{os.getcwd()}/..\"\n",
    "libDir = f\"{workDir}/lib\"\n",
    "dataDir= f\"{workDir}/data\" \n",
    "\n",
    "sys.path.append(libDir)"
   ]
  },
  {
   "cell_type": "code",
   "execution_count": 2,
   "metadata": {},
   "outputs": [],
   "source": [
    "%load_ext autoreload\n",
    "%autoreload 2"
   ]
  },
  {
   "cell_type": "code",
   "execution_count": 3,
   "metadata": {},
   "outputs": [],
   "source": [
    "import pandas\n",
    "import numpy as np"
   ]
  },
  {
   "cell_type": "code",
   "execution_count": 4,
   "metadata": {},
   "outputs": [],
   "source": [
    "%matplotlib inline\n",
    "import matplotlib.pyplot as plt"
   ]
  },
  {
   "cell_type": "markdown",
   "metadata": {},
   "source": [
    "## Jeux de données\n",
    "* Jeux de données de protéomique quantitative au format TSV\n",
    "* Ontologie GO au format [owl](http://www.obofoundry.org/ontology/go.html)\n",
    "* Entrées Uniprot au format XML\n",
    "    * Protéines de l'étude\n",
    "    * Protéome d'E.Coli complet\n",
    "    \n",
    "<hr style=\"border:1px solid gray\"> </hr>"
   ]
  },
  {
   "cell_type": "markdown",
   "metadata": {},
   "source": [
    "### Lecture des valeurs experimentales\n",
    "Charger ```TCL_wt1.tsv``` dans une [dataframe pandas](https://pandas.pydata.org/pandas-docs/stable/reference/api/pandas.read_csv.html).\n",
    "<br/><span style=\"color:firebrick;font-weight:bold\"> $\\rhd$ \n",
    "Retirer les lignes présentant des aberrations numériques\n",
    "</span>\n",
    "<br/><span style=\"color:firebrick;font-weight:bold\">$\\rhd$ Attention aux types des colonnes !</span>"
   ]
  },
  {
   "cell_type": "code",
   "execution_count": null,
   "metadata": {},
   "outputs": [],
   "source": []
  },
  {
   "cell_type": "markdown",
   "metadata": {},
   "source": [
    "##### 1. Un premier volcano-plot\n",
    "\n",
    "Ce type de figure représente pour chaque protéine en abscisse le taux d'abondance et en ordonnée la précision de la mesure.\n",
    "\n",
    "<span style=\"color:firebrick;font-weight:bold\">$\\rhd$ 1. Réaliser un scatter plot matplotlib avec</span>\n",
    "<br/><span style=\"color:firebrick;font-weight:bold\">- en x, `Log2 Corrected Abundance Ratio`</span>\n",
    "<br/><span style=\"color:firebrick;font-weight:bold\">-  en y, `LOG10 Adj.P-val`</span>\n",
    "\n",
    "<span style=\"color:firebrick;font-weight:bold\">$\\rhd$Vous légenderez les axes, attention `LOG10 Adj.P-val` est en fait `-LOG10 Adj.P-val`, regardez bien.</span>"
   ]
  },
  {
   "cell_type": "markdown",
   "metadata": {},
   "source": [
    "##### 2. Réaliser des versions évoluées du graphique précédent\n",
    "L'objectif est de mettre l'accent sur la région **-Log10 adj Pvalue > 4** et **Log2 corrected abundance ratio > 0**.\n",
    "<br/>Pour cela vous revisiterez le scatter plot précedent au travers des versions suivantes:\n",
    "<br/><span style=\"color:firebrick;font-weight:bold\"> $\\rhd$ première version : un rectangle de la couleur de votre choix matérialisera la région</span>\n",
    "<br/><span style=\"color:firebrick;font-weight:bold\"> $\\rhd$ deuxième version  : une couleur de votre choix représentera les points de la région</span>\n",
    "<br/><span style=\"color:firebrick;font-weight:bold\"> $\\rhd$ troisème version (optionnel): Les identifiants uniprot remplaceront les points des protéines de la région</span>"
   ]
  },
  {
   "cell_type": "code",
   "execution_count": null,
   "metadata": {},
   "outputs": [],
   "source": []
  },
  {
   "cell_type": "markdown",
   "metadata": {},
   "source": [
    "#### Analyse ORA\n",
    "\n",
    "##### Principes\n",
    "Vous disposez d'un objet analyser permettant de réaliser une analyse de la sur-représentation (**ORA**) en termes GO parmi une liste de protéine d'intérêt.\n",
    "La fréquence des termes GO dans le protéome totale est utilisée comme référence.\n",
    "\n",
    "L'objet analyser s'instancie ainsi\n",
    "```python\n",
    "from stat_utils import GO_ORA_analyser\n",
    "o = GO_ORA_analyser(f\"{dataDir}/go.owl\", f\"{dataDir}/K12_proteome\", f\"{dataDir}/dataset\")\n",
    "```\n",
    "\n",
    "Il fournit une méthode pour chaque catégorie de termes GO\n",
    "<i>{ biological_process, molecular_function, cellular_component }</i>\n",
    "\n",
    "Une éventuelle surreprésentation des termes GO de la catégorie <i>biological_process</i> est par exemple calculée parmi les protéines P29744 et P05706 de la façon suivante:\n",
    "\n",
    "```python\n",
    "goTerm_scores = o.biological_process([\"P29744\", \"P05706\"])\n",
    "```\n",
    "<span style=\"color:green;font-weight:bold\">$\\uparrow$ Reproduire cet exemple dans la cellule ci-dessous.$\\downarrow$ </span>\n",
    "</br><span style=\"color:firebrick;font-weight:bold\"> $\\rhd$ Inspecter l'objet retourné par la méthode o.biological_process, que voyez-vous ?</span>"
   ]
  },
  {
   "cell_type": "code",
   "execution_count": null,
   "metadata": {},
   "outputs": [],
   "source": []
  },
  {
   "cell_type": "markdown",
   "metadata": {},
   "source": [
    "### Suppléments (c.f. TP5)\n",
    "\n",
    "La liste de **toutes les protéines** portant un terme GO peut également être obtenue:\n",
    "- via le nom du terme \n",
    "```python \n",
    "protein_list       = o.get_background_proteins(name=\"ion transport\")\n",
    "```\n",
    "- via l'identifiant du terme \n",
    "```python\n",
    "same_protein_list  = o.get_background_proteins(ID=\"GO:0006811\")\n",
    "```"
   ]
  },
  {
   "cell_type": "markdown",
   "metadata": {},
   "source": [
    "###### 2/ Analyser la représentation des termes GO parmi les protéines surabondantes de l'experience\n",
    "<span style=\"color:firebrick;font-weight:bold\"> $\\rhd$ Vous devrez extraire les identifiants uniprot des protéines aux `Log2 Corrected Abundance Ratio` supérieurs au seuil alpha de 5%.</span>\n",
    "<br/><span style=\"color:firebrick;font-weight:bold\"> $\\rhd$ Vous conduirez sur cette liste de protéines une analyse de sur-représentation en termes GO à l'aide d'un objet *GO_ORA_analyser*.</span>\n",
    "<br/><span style=\"color:firebrick;font-weight:bold\"> $\\rhd$ Vous pouvez faire varier le seuil d'abondance autour de la valeur alpha.</span>\n",
    "<br/><span style=\"color:firebrick;font-weight:bold\"> $\\rhd$ Vous traiterez les 3 catégories *biological_process / molecular_function /cellular_component*.</span>\n",
    "\n",
    "\n",
    "\n",
    "Familiarisez-vous avec la structures des dictionnaires de résultas, vous pouvez [les sauvegarder au format json](https://docs.python.org/3/library/json.html).\n"
   ]
  },
  {
   "cell_type": "code",
   "execution_count": null,
   "metadata": {},
   "outputs": [],
   "source": []
  },
  {
   "cell_type": "markdown",
   "metadata": {},
   "source": [
    "## Une première application: représentation riche du résultat de l'analyse\n",
    "\n",
    "\n",
    "### Mise en forme \"riche\" des résultats grâce au notebook\n",
    "\n",
    "Jupyter permet d'étendre le concept de la méthode **__str__()** afin de produire du contenu HTML.\n",
    " Ainsi, tout objet impémentant une méthode **_repr_html_()** sera affiché, via son rendu HTML, dans la cellule d'un notebook.\n",
    "\n",
    "```python\n",
    "class Point():\n",
    "    def __init__(self, x, y, z):\n",
    "        self.x = x\n",
    "        self.y = y\n",
    "        self.z = z\n",
    "    def _repr_html_(self):\n",
    "        htmlString = \"<table><thead><tr><td>Abscisse</td><td>Ordonnée</td><td>Cote</td></tr></thead>\"\n",
    "        htmlString += f\"<tbody><tr><td>{self.x}</td><td>{self.y}</td><td>{self.z}</td></tr></tbody></table>\"\n",
    "        return htmlString\n",
    "Point(2,3,4)\n",
    "```\n",
    "Affichera\n",
    "\n",
    "![caption](../figs/reprhtml.png)\n",
    "\n",
    "\n",
    "### Intégration des résultats à la visualisation du notebook \n",
    "\n",
    "En vous inspirant de la fonction ci-dessus, implémenter une classe Rich_GO_ORA dont la méthode [`_repr_html_`](https://ipython.readthedocs.io/en/stable/config/integrating.html) permettra un affichage plus lisible d'une des analyses `biological_process / molecular_function /cellular_component`\n",
    "\n",
    "Un exemple possible est,\n",
    "![caption](../figs/_repr_html_.png)\n",
    "\n",
    "(Bonus): clicker sur le nom du terme GO envoie vers sa description.\n",
    "Pour cela, afficher le nom du pathway dans une balise hyperlien pour permettre d'acceder à la page de description du terme GO. \n",
    "\n",
    "Les termes GO sont accessibles aux URL de la forme\n",
    "`http://amigo.geneontology.org/amigo/term/GO:GO_NUMBER`.\n",
    "\n",
    "\n"
   ]
  },
  {
   "cell_type": "code",
   "execution_count": null,
   "metadata": {},
   "outputs": [],
   "source": []
  },
  {
   "cell_type": "markdown",
   "metadata": {},
   "source": [
    "## Une deuxième application: volcano plot améliorés\n",
    "###### PANDAS\n",
    "En choisissant comme seuil la valeur `alpha` du TP précédent, veuillez extraires les identifiants uniprot des protéines sur-abondantes (rappel les valeurs d'abondance sont celles de la colonne `Log2 Corrected Abundance Ratio`).\n",
    "\n",
    "Vous devrez avoir dans des listes distinctes:\n",
    "* identifiants uniprot\n",
    "* `Log2 Corrected Abundance Ratio`\n",
    "* `LOG10 Adj.P-val'`\n",
    "\n",
    "###### Représentation graphiques\n",
    "* Pour la catégorie de termes GO (biological_process / molecular_function /cellular_component) de votre choix\n",
    "    * Générer une grille de 4 graphiques \n",
    "    * Dans chaque graphique colorez dans une couleur différentes les protéines porteuses de 4 termes de GO que vous estimez les plus pertinents \n",
    "    * Donnez le nom de la catégorie générale à la grille\n",
    "    * Donnez le nom du terme GO représenté dans chaque graphique avec une couleur de titre cohérente.\n",
    "    "
   ]
  },
  {
   "cell_type": "code",
   "execution_count": null,
   "metadata": {},
   "outputs": [],
   "source": []
  }
 ],
 "metadata": {
  "kernelspec": {
   "display_name": "Python [conda env:anaconda3-tp-interactomics]",
   "language": "python",
   "name": "conda-env-anaconda3-tp-interactomics-py"
  },
  "language_info": {
   "codemirror_mode": {
    "name": "ipython",
    "version": 3
   },
   "file_extension": ".py",
   "mimetype": "text/x-python",
   "name": "python",
   "nbconvert_exporter": "python",
   "pygments_lexer": "ipython3",
   "version": "3.8.0"
  }
 },
 "nbformat": 4,
 "nbformat_minor": 2
}
