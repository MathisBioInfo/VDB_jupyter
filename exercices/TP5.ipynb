{
 "cells": [
  {
   "cell_type": "markdown",
   "id": "7b4c5954",
   "metadata": {},
   "source": [
    "# Manipulation de la librairie networkx"
   ]
  },
  {
   "cell_type": "markdown",
   "id": "1f913c9b",
   "metadata": {},
   "source": [
    "## Construction de réseaux d'interactions à partir de données MITAB.\n",
    "\n",
    "Le format (MITAB) stocke des paires de protéines en interaction. Dans ce format, chaque colonne porte une information spécifique.\n",
    "Une description du format est disponible [ici](https://psicquic.github.io/MITAB27Format.html).\n",
    "Les données d'interactions impliquant les protéines surreprésentées de l'expérience ont été obtenues depuis la base de données [Intact](https://www.ebi.ac.uk/intact/home).\n",
    "Ces données sont mises à votre disposition dans le fichier `data/proteins.mitab`.\n",
    "\n",
    "Vous extrairez du fichier les paires d'identifiants uniprot des protéines en interaction.\n",
    "\n",
    "Ces paires de protéines constituent un réseau d'interaction protéine-protéine que vous allez dessiner à l'aide de la libraire [networkx](https://networkx.org/documentation/stable/reference).\n",
    "Le code suivant vous est fourni à titre d'exemple.\n",
    "\n",
    "```python\n",
    "%matplotlib inline\n",
    "import matplotlib.pyplot as plt\n",
    "import networkx as nx\n",
    "G = nx.Graph()\n",
    "\n",
    "fig, ax = plt.subplots(figsize=(8, 8))\n",
    "\n",
    "G.add_edge('a', 'b')\n",
    "G.add_edge('e', 'b')\n",
    "G.add_edge('e', 'a')\n",
    "pos = nx.spring_layout(G)\n",
    "nx.draw(G, pos, with_labels=True, node_color=['blue','blue','red'] , node_size=2000)\n",
    "```\n"
   ]
  },
  {
   "cell_type": "markdown",
   "id": "0f137bd6",
   "metadata": {},
   "source": [
    "Les positions des noeuds sont paramétrables au travers de l'objet [layout](https://networkx.org/documentation/stable/reference/generated/networkx.drawing.layout.spring_layout.html). Une fois une première représentation du réseau obtenue, affinez celle-ci afin de:\n",
    "\n",
    "* Écrire les identifiants uniprot dans les noeuds du réseau.\n",
    "* Faire du diamètre des noeuds une fonction du nombre de partenaires protéiques.\n",
    "* Faire de la largeur des arêtes une fonction du nombre d'experiences (lignes MITAB) detectant cette interaction\n",
    "* Colorier les arêtes soutenues par au moins une interaction de type physique entre proteines.\n",
    "* Utiliser une color map quantitative et divergente pour colorier les arêtes en fonction du nombre d'experiences (lignes MITAB) detectant cette interaction"
   ]
  },
  {
   "cell_type": "markdown",
   "id": "c8db0700",
   "metadata": {},
   "source": [
    "## Croisement des données d'interaction et de protéomique\n",
    "\n",
    "En utilisant les données d'abondance du fichier `TCL_wt1.tsv`, essayez de modifier le rendu du réseau pour:\n",
    "* colorier dans une couleur spécifique uniquement les protéines surabondantes dans l'expérience.\n",
    "* Colorier en gris les noeuds des protéines non mesurées dans l'experience.\n",
    "* Utiliser une échelle de couleur continue fonction de l'abondance pour colorier les noeuds."
   ]
  },
  {
   "cell_type": "markdown",
   "id": "6863cfaf",
   "metadata": {},
   "source": [
    "#### Controles Interactifs du réseau\n",
    "En suivant le modèle de widgets décrits dans le [TP4](./TP4.ipynb), il est possible de rendre \"interactif\" le réseau d'exemple précédent. Dans l'exemple ci-dessous les couleurs des noms sont modifiées à la volée. Vous pouvez y voir que l'objet `pos`, qui stocke la position des noeuds et des arêtes, est calculé une fois et réutilisé à chaque mise à jour du réseau. Cela permet de preserver la forme du réseau.\n",
    "\n",
    "```python\n",
    "%matplotlib inline\n",
    "import networkx as nx\n",
    "from ipywidgets import interact, Dropdown\n",
    "import numpy as np\n",
    "import matplotlib.pyplot as plt\n",
    "\n",
    "from IPython.display import display\n",
    "\n",
    "G = nx.Graph()\n",
    "\n",
    "G.add_edge('a', 'b')\n",
    "G.add_edge('e', 'b')\n",
    "G.add_edge('e', 'a')\n",
    "\n",
    "pos = nx.spring_layout(G)\n",
    "\n",
    "\n",
    "def update_network(scalar_color):\n",
    "    fig, ax = plt.subplots(figsize=(10, 10))\n",
    "    color_list = [ scalar_color for n in G.nodes ]\n",
    "    nx.draw(G, ax=ax, pos=pos, node_color=color_list)\n",
    "    \n",
    "_ = interact(update_network, scalar_color = [(\"Blue color\", \"blue\"), (\"Red color\", \"red\")])\n",
    "```\n",
    "\n",
    "A l'aide de ce modèle, coloriez les protéines appartenant aux classes GO \"enrichies\" dans l'experience.\n",
    "Referez vous au TP2 pour lister toutes les protéines portant un terme GO particulier."
   ]
  }
 ],
 "metadata": {
  "kernelspec": {
   "display_name": "VDB_latest",
   "language": "python",
   "name": "vdb_latest"
  },
  "language_info": {
   "codemirror_mode": {
    "name": "ipython",
    "version": 3
   },
   "file_extension": ".py",
   "mimetype": "text/x-python",
   "name": "python",
   "nbconvert_exporter": "python",
   "pygments_lexer": "ipython3",
   "version": "3.8.13"
  }
 },
 "nbformat": 4,
 "nbformat_minor": 5
}
